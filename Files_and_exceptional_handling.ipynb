{
  "nbformat": 4,
  "nbformat_minor": 0,
  "metadata": {
    "colab": {
      "provenance": []
    },
    "kernelspec": {
      "name": "python3",
      "display_name": "Python 3"
    },
    "language_info": {
      "name": "python"
    }
  },
  "cells": [
    {
      "cell_type": "markdown",
      "source": [
        "1. Discuss the scenarios where multithreading is preferable to multiprocessing and scenarios where\n",
        "multiprocessing is a better choice"
      ],
      "metadata": {
        "id": "ffM_7xfM_cNR"
      }
    },
    {
      "cell_type": "markdown",
      "source": [
        "Multithreading is preferable in scenarios like I/O-bound tasks,where task wait for operations like reading from a disk or network ,and when shared memory is needed for communication between tasks.\n",
        "on the other hand,multiprocessing is better for CPU-bounds tasks that require heavy computation,as it allows true parallelism across multiple CPU cores.it's also beneficial for process isolation,preventing crashes in one process from affecting others,and for security when running untrusted code.\n",
        "\n",
        "     "
      ],
      "metadata": {
        "id": "5II_o4Sg_--o"
      }
    },
    {
      "cell_type": "markdown",
      "source": [
        " 2. Describe what a process pool is and how it helps in managing multiple processes efficiently"
      ],
      "metadata": {
        "id": "rQ1Hqui0AKLc"
      }
    },
    {
      "cell_type": "markdown",
      "source": [
        "in short , a process pool makes it easier and quicker to handle multiple tasks without overwhelming your system.\n",
        "     "
      ],
      "metadata": {
        "id": "VVzA-PtWARGK"
      }
    },
    {
      "cell_type": "markdown",
      "source": [
        " 3. Explain what multiprocessing is and why it is used in Python programs."
      ],
      "metadata": {
        "id": "HNNdBgRzAXam"
      }
    },
    {
      "cell_type": "markdown",
      "source": [
        "process runs parallely on multiple processors is know as multiprocessing\n",
        "multiprocessing in python is used to improve performance, handle heavy computations,ensure stability,and distribute tasks effectively.\n",
        "     "
      ],
      "metadata": {
        "id": "MstnxyB3AbcU"
      }
    },
    {
      "cell_type": "code",
      "source": [],
      "metadata": {
        "id": "glocwrHGAc_F"
      },
      "execution_count": null,
      "outputs": []
    },
    {
      "cell_type": "markdown",
      "source": [
        " 4. Write a Python program using multithreading where one thread adds numbers to a list, and another\n",
        "thread removes numbers from the list. Implement a mechanism to avoid race conditions using\n",
        "threading.Lock."
      ],
      "metadata": {
        "id": "DI-BssL4AicG"
      }
    },
    {
      "cell_type": "code",
      "source": [
        "\n",
        "import threading\n",
        "import time"
      ],
      "metadata": {
        "id": "kzIMXafeAi3C"
      },
      "execution_count": null,
      "outputs": []
    },
    {
      "cell_type": "code",
      "source": [
        "shared_list = []\n",
        "lock = threading.Lock()\n",
        "\n",
        "def add_numbers():\n",
        "    for i in range(10):\n",
        "        time.sleep(0.1)\n",
        "        lock.acquire()\n",
        "        shared_list.append(i)\n",
        "        print(f\"Added {i}\")\n",
        "        lock.release()\n",
        "\n",
        "\n",
        "def remove_numbers():\n",
        "    for i in range(10):\n",
        "        time.sleep(0.2)\n",
        "        lock.acquire()\n",
        "        if shared_list:\n",
        "            removed_item = shared_list.pop(0)\n",
        "            print(f\"Removed {removed_item}\")\n",
        "            lock.release()\n",
        "        else:\n",
        "            print(\"List is empty, nothing to remove.\")\n",
        "            lock.release()\n"
      ],
      "metadata": {
        "id": "8LnVGDS_Awon"
      },
      "execution_count": null,
      "outputs": []
    },
    {
      "cell_type": "code",
      "source": [
        "#creating threads\n",
        "add_thread = threading.Thread(target=add_numbers)\n",
        "remove_thread = threading.Thread(target=remove_numbers)\n",
        "#Starting threads\n",
        "add_thread.start()\n",
        "remove_thread.start()\n",
        "#wait for both threads to finish\n",
        "add_thread.join()\n",
        "remove_thread.join()\n",
        "\n",
        "print(\"Final list:\", shared_list)"
      ],
      "metadata": {
        "colab": {
          "base_uri": "https://localhost:8080/"
        },
        "id": "8YvynmocAzKf",
        "outputId": "f98adbdd-e489-422c-ba9a-260ee63d0b88"
      },
      "execution_count": null,
      "outputs": [
        {
          "output_type": "stream",
          "name": "stdout",
          "text": [
            "Added 0\n",
            "Added 1\n",
            "Removed 0\n",
            "Added 2\n",
            "Added 3\n",
            "Removed 1\n",
            "Added 4\n",
            "Added 5\n",
            "Removed 2\n",
            "Added 6\n",
            "Added 7\n",
            "Removed 3\n",
            "Added 8\n",
            "Added 9\n",
            "Removed 4\n",
            "Removed 5\n",
            "Removed 6\n",
            "Removed 7\n",
            "Removed 8\n",
            "Removed 9\n",
            "Final list: []\n"
          ]
        }
      ]
    },
    {
      "cell_type": "code",
      "source": [],
      "metadata": {
        "id": "26EtBpw-A2Ww"
      },
      "execution_count": null,
      "outputs": []
    },
    {
      "cell_type": "markdown",
      "source": [
        "Q5. Describe the methods and tools available in Python for safely sharing data between threads and processes.\n"
      ],
      "metadata": {
        "id": "Ik0FFCV6A7tx"
      }
    },
    {
      "cell_type": "markdown",
      "source": [
        "'''\n",
        "1. Threading Module:\n",
        "-Locks: Ensure only one thread accesses a resource at a time.\n",
        "-Semaphore: Control access to a resource with a predetermined number of permits.\n",
        "-Condition Variables: Allow one or more threads to wait for a specific condition to be met.\n",
        "-Queues: provide thread -safe queues for data sharing\n",
        "-RLocks: allows a thread to acquire the same lock multiple times without deadlocking.\n",
        "\n",
        "2.Multiprocessing Medule:\n",
        "-Shared Memory:use 'Value' or 'Array' to share data between processes.\n",
        "-Manager: create shared object like lists or dictionaries\n",
        "\n",
        "3.Events: allows one thread to signal another to proceed"
      ],
      "metadata": {
        "id": "QHJBN9bcBMFR"
      }
    },
    {
      "cell_type": "markdown",
      "source": [
        "\"\\n#1. Threading Module:\\n-Locks: Ensure only one thread accesses a resource at a time.\\n-Semaphore: Control access to a resource with a predetermined number of permits.\\n-Condition Variables: Allow one or more threads to wait for a specific condition to be met.\\n-Queues: provide thread -safe queues for data sharing\\n-RLocks: allows a thread to acquire the same lock multiple times without deadlocking.\\n\\n#2.Multiprocessing Medule:\\n-Shared Memory:use 'Value' or 'Array' to share data between processes.\\n-Manager: create shared object like lists or dictionaries\\n\\n#3.Events: allows one thread to signal another to proceed \\n\\n\""
      ],
      "metadata": {
        "id": "4a3fAXBHBWTy"
      }
    },
    {
      "cell_type": "code",
      "source": [],
      "metadata": {
        "id": "z4qu74vwBMYu"
      },
      "execution_count": null,
      "outputs": []
    },
    {
      "cell_type": "markdown",
      "source": [
        "6. Discuss why it’s crucial to handle exceptions in concurrent programs and the techniques available for\n",
        "doing so."
      ],
      "metadata": {
        "id": "gNH1BXYCCUl6"
      }
    },
    {
      "cell_type": "markdown",
      "source": [
        "concurrent programs need proper exception handling to maintain stability,manage resources,ensure data integrity,and improve error reporting.if exceptions are not handled,they can lead to crashes,resource leaks,and inconsistent data states.\n",
        "\n",
        "Some techniques for handling exceptions include:\n",
        "\n",
        "1. Try-Except Blocks: catch exceptions within each thread to manage errors locally.\n",
        "2. Custom Exception Classes : create specific exception types for better clarity and handling.\n",
        "3. Thread-Safe Logging: use logging mechanisms that work safely in concurrent environment.\n",
        "4. Futures or Callbacks: in languages like python,use futures to capture and manage exceptions from threads.\n",
        "5. Graceful Shutdown: implement strategies to shut down threads safely when error occur."
      ],
      "metadata": {
        "id": "04pgxVMaCZB2"
      }
    },
    {
      "cell_type": "markdown",
      "source": [
        " 7. Create a program that uses a thread pool to calculate the factorial of numbers from 1 to 10 concurrently.\n",
        "Use concurrent.futures.ThreadPoolExecutor to manage the threads."
      ],
      "metadata": {
        "id": "3iBWlVvKCk_S"
      }
    },
    {
      "cell_type": "code",
      "source": [
        "import concurrent.futures\n",
        "import threading\n",
        "import time\n",
        "\n",
        "\n",
        "def calculate_factorial(n):\n",
        "    \"\"\"Calculates the factorial of a number.\"\"\"\n",
        "    factorial = 1\n",
        "    for i in range(1, n + 1):\n",
        "        factorial *= i\n",
        "    return factorial\n",
        "\n",
        "\n",
        "if __name__ == \"__main__\":\n",
        "    with concurrent.futures.ThreadPoolExecutor(max_workers=10) as executor:\n",
        "        # Submit tasks to the thread pool\n",
        "        futures = [executor.submit(calculate_factorial, i) for i in range(1, 11)]\n",
        "\n",
        "        # Retrieve results as they become available\n",
        "        for future in concurrent.futures.as_completed(futures):\n",
        "            result = future.result()\n",
        "            print(f\"Factorial: {result}\")"
      ],
      "metadata": {
        "colab": {
          "base_uri": "https://localhost:8080/"
        },
        "id": "zLIyoxuCCZYu",
        "outputId": "6c360520-08d9-4655-aeb6-29b9a4d519e4"
      },
      "execution_count": null,
      "outputs": [
        {
          "output_type": "stream",
          "name": "stdout",
          "text": [
            "Factorial: 120\n",
            "Factorial: 2\n",
            "Factorial: 40320\n",
            "Factorial: 24\n",
            "Factorial: 3628800\n",
            "Factorial: 362880\n",
            "Factorial: 6\n",
            "Factorial: 1\n",
            "Factorial: 5040\n",
            "Factorial: 720\n"
          ]
        }
      ]
    },
    {
      "cell_type": "markdown",
      "source": [
        " 8. Create a Python program that uses multiprocessing.Pool to compute the square of numbers from 1 to 10 in\n",
        "parallel. Measure the time taken to perform this computation using a pool of different sizes (e.g., 2, 4, 8\n",
        "processes)."
      ],
      "metadata": {
        "id": "p-TYFsJjGh4r"
      }
    },
    {
      "cell_type": "code",
      "source": [
        "import multiprocessing\n",
        "import time\n",
        "\n",
        "\n",
        "def square(n):\n",
        "    \"\"\"Calculates the square of a number.\"\"\"\n",
        "    return n * n\n",
        "\n",
        "if __name__ == \"__main__\":\n",
        "    numbers = list(range(1, 11))\n",
        "\n",
        "    for num_processes in [2, 4, 8]:\n",
        "        start_time = time.time()\n",
        "        with multiprocessing.Pool(processes=num_processes) as pool:\n",
        "            results = pool.map(square, numbers)\n",
        "        end_time = time.time()\n",
        "\n",
        "        print(f\"With {num_processes} processes:\")\n",
        "        print(f\"Results: {results}\")\n",
        "        print(f\"Time taken: {end_time - start_time:.4f} seconds\")\n",
        "        print(\"-\" * 20)"
      ],
      "metadata": {
        "colab": {
          "base_uri": "https://localhost:8080/"
        },
        "id": "GbQDpAgxGijw",
        "outputId": "380901e8-e3f1-4737-acbb-a94eb645c951"
      },
      "execution_count": null,
      "outputs": [
        {
          "output_type": "stream",
          "name": "stdout",
          "text": [
            "With 2 processes:\n",
            "Results: [1, 4, 9, 16, 25, 36, 49, 64, 81, 100]\n",
            "Time taken: 0.0620 seconds\n",
            "--------------------\n",
            "With 4 processes:\n",
            "Results: [1, 4, 9, 16, 25, 36, 49, 64, 81, 100]\n",
            "Time taken: 0.0796 seconds\n",
            "--------------------\n",
            "With 8 processes:\n",
            "Results: [1, 4, 9, 16, 25, 36, 49, 64, 81, 100]\n",
            "Time taken: 0.1640 seconds\n",
            "--------------------\n"
          ]
        }
      ]
    },
    {
      "cell_type": "code",
      "source": [],
      "metadata": {
        "id": "1Ul01mc7Gmoi"
      },
      "execution_count": null,
      "outputs": []
    }
  ]
}